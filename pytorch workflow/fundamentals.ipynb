{
 "cells": [
  {
   "cell_type": "markdown",
   "metadata": {},
   "source": [
    "## Parameters\n",
    "They are trainable variables, which can be changed, being part of the `nn.Module`"
   ]
  },
  {
   "cell_type": "code",
   "execution_count": 1,
   "metadata": {},
   "outputs": [
    {
     "name": "stdout",
     "output_type": "stream",
     "text": [
      "As variáveis treinavei disponivéis são\n",
      "\n",
      "Nome da variavel treinavel: w1, Parameter containing:\n",
      "tensor([-0.9015], requires_grad=True)\n",
      "\n",
      "Nome da variavel treinavel: w2, Parameter containing:\n",
      "tensor([0.5498], requires_grad=True)\n",
      "\n",
      "Nome da variavel treinavel: w3, Parameter containing:\n",
      "tensor([1.5878], requires_grad=True)\n",
      "\n",
      "Nome da variavel treinavel: w4, Parameter containing:\n",
      "tensor([0.4399], requires_grad=True)\n",
      "\n",
      "Nome da variavel treinavel: bias, Parameter containing:\n",
      "tensor([0.7997], requires_grad=True)\n",
      "\n"
     ]
    }
   ],
   "source": [
    "# Linear regression\n",
    "import torch\n",
    "from torch import nn\n",
    "\n",
    "class LinearRegressionModel(nn.Module):\n",
    "    def __init__(self):\n",
    "        super(LinearRegressionModel, self).__init__()\n",
    "\n",
    "        # Inicialize with random parameters to use gradient descent\n",
    "        self.w1 = nn.Parameter(torch.randn(1,))\n",
    "        self.w2 = nn.Parameter(torch.randn(1,))\n",
    "        self.w3 = nn.Parameter(torch.randn(1,))\n",
    "        self.w4 = nn.Parameter(torch.randn(1,))\n",
    "        self.bias = nn.Parameter(torch.rand(1,))\n",
    "\n",
    "        # Know parameters (original)\n",
    "        self.biasp = 0.5\n",
    "        self.w1p = 0.5\n",
    "        self.w1p = 0.2\n",
    "        self.w1p = 0.7\n",
    "        self.w1p = 0.8\n",
    "\n",
    "modelo = LinearRegressionModel()\n",
    "print(f\"As variáveis treinavei disponivéis são\\n\")\n",
    "for name, parameter in modelo.named_parameters():\n",
    "    print(f\"Nome da variavel treinavel: {name}, {parameter}\\n\")"
   ]
  }
 ],
 "metadata": {
  "kernelspec": {
   "display_name": "Python 3",
   "language": "python",
   "name": "python3"
  },
  "language_info": {
   "codemirror_mode": {
    "name": "ipython",
    "version": 3
   },
   "file_extension": ".py",
   "mimetype": "text/x-python",
   "name": "python",
   "nbconvert_exporter": "python",
   "pygments_lexer": "ipython3",
   "version": "3.13.2"
  }
 },
 "nbformat": 4,
 "nbformat_minor": 2
}
