{
 "cells": [
  {
   "cell_type": "markdown",
   "metadata": {},
   "source": [
    "# Tenosr full\n",
    "\n",
    "##### `Tensor.full` it's a way to create tensors in any dimensions, `tensor.full((size), x)` x it's the number that go complete the tensor, like the exemple below:"
   ]
  },
  {
   "cell_type": "code",
   "execution_count": 1,
   "metadata": {},
   "outputs": [
    {
     "name": "stdout",
     "output_type": "stream",
     "text": [
      "tensor(1)\n",
      "tensor([2, 2])\n",
      "tensor([[3, 3, 3],\n",
      "        [3, 3, 3],\n",
      "        [3, 3, 3]])\n",
      "tensor([[[4, 4, 4, 4],\n",
      "         [4, 4, 4, 4],\n",
      "         [4, 4, 4, 4],\n",
      "         [4, 4, 4, 4]],\n",
      "\n",
      "        [[4, 4, 4, 4],\n",
      "         [4, 4, 4, 4],\n",
      "         [4, 4, 4, 4],\n",
      "         [4, 4, 4, 4]],\n",
      "\n",
      "        [[4, 4, 4, 4],\n",
      "         [4, 4, 4, 4],\n",
      "         [4, 4, 4, 4],\n",
      "         [4, 4, 4, 4]],\n",
      "\n",
      "        [[4, 4, 4, 4],\n",
      "         [4, 4, 4, 4],\n",
      "         [4, 4, 4, 4],\n",
      "         [4, 4, 4, 4]]])\n"
     ]
    }
   ],
   "source": [
    "import torch\n",
    "\n",
    "scalar = torch.full((), 1)\n",
    "vector = torch.full((2,), 2)\n",
    "matriz = torch.full((3,3), 3)\n",
    "tensor = torch.full((4,4,4), 4)\n",
    "print(scalar)\n",
    "print(vector)\n",
    "print(matriz)\n",
    "print(tensor)"
   ]
  }
 ],
 "metadata": {
  "kernelspec": {
   "display_name": "Python 3",
   "language": "python",
   "name": "python3"
  },
  "language_info": {
   "codemirror_mode": {
    "name": "ipython",
    "version": 3
   },
   "file_extension": ".py",
   "mimetype": "text/x-python",
   "name": "python",
   "nbconvert_exporter": "python",
   "pygments_lexer": "ipython3",
   "version": "3.12.6"
  }
 },
 "nbformat": 4,
 "nbformat_minor": 2
}
