{
 "cells": [
  {
   "cell_type": "markdown",
   "metadata": {},
   "source": [
    "# Tensor arange\n",
    "\n",
    "##### `Tensor.arange` it's a way to create tensors in any dimensions, `tensor.arange(start=x, end=y, step=z)` gonna create the tensor with end lenght, gonna start in start, and goes step by step"
   ]
  },
  {
   "cell_type": "code",
   "execution_count": 6,
   "metadata": {},
   "outputs": [
    {
     "name": "stdout",
     "output_type": "stream",
     "text": [
      "tensor([0, 1, 2, 3, 4])\n",
      "tensor([[0, 1, 2],\n",
      "        [3, 4, 5]])\n",
      "tensor([[[ 0,  1,  2,  3],\n",
      "         [ 4,  5,  6,  7],\n",
      "         [ 8,  9, 10, 11]],\n",
      "\n",
      "        [[12, 13, 14, 15],\n",
      "         [16, 17, 18, 19],\n",
      "         [20, 21, 22, 23]]])\n"
     ]
    }
   ],
   "source": [
    "import torch\n",
    "\n",
    "# IN THIS CASE SCALAR, MATRIX AND TENSORS CANT BE CREATE LIKE THIS `tensor.arange(start=x, end=y, step=z), HOW EVER I'TS USE ONETHER FUNCTIONS -> RESHAPE\n",
    "# SCALAR CANT ;(\n",
    "vector = torch.arange(0,5,1) \n",
    "matrix = torch.arange(0, 6).reshape(2, 3)\n",
    "tensor = torch.arange(0, 24).reshape(2, 3,4)\n",
    "print(vector)\n",
    "print(matrix)\n",
    "print(tensor)\n",
    "\n"
   ]
  }
 ],
 "metadata": {
  "kernelspec": {
   "display_name": "Python 3",
   "language": "python",
   "name": "python3"
  },
  "language_info": {
   "codemirror_mode": {
    "name": "ipython",
    "version": 3
   },
   "file_extension": ".py",
   "mimetype": "text/x-python",
   "name": "python",
   "nbconvert_exporter": "python",
   "pygments_lexer": "ipython3",
   "version": "3.12.6"
  }
 },
 "nbformat": 4,
 "nbformat_minor": 2
}
