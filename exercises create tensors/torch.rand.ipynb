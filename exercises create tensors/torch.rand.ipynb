{
 "cells": [
  {
   "cell_type": "markdown",
   "metadata": {},
   "source": [
    "# Tenosr rand\n",
    "\n",
    "##### `Tensor.rand` it's a way to create tensors in any dimensions, `tensor.rand(size)` gonna create the tensor with randoms numbers between 0 and 1, like the exemple below:"
   ]
  },
  {
   "cell_type": "code",
   "execution_count": 2,
   "metadata": {},
   "outputs": [
    {
     "name": "stdout",
     "output_type": "stream",
     "text": [
      "tensor([0.8967])\n",
      "tensor([0.5230, 0.5589])\n",
      "tensor([[0.8490, 0.3777, 0.8176],\n",
      "        [0.5912, 0.1432, 0.9682],\n",
      "        [0.6009, 0.9967, 0.7352]])\n",
      "tensor([[[0.2637, 0.4994, 0.2404, 0.3204],\n",
      "         [0.1498, 0.0986, 0.6358, 0.5076],\n",
      "         [0.3560, 0.4561, 0.1183, 0.7246],\n",
      "         [0.7893, 0.9286, 0.9081, 0.3790]],\n",
      "\n",
      "        [[0.3095, 0.5679, 0.6093, 0.1012],\n",
      "         [0.6973, 0.1020, 0.6470, 0.5815],\n",
      "         [0.5706, 0.4873, 0.8129, 0.2800],\n",
      "         [0.9877, 0.1047, 0.8835, 0.2955]],\n",
      "\n",
      "        [[0.8261, 0.7956, 0.1925, 0.3494],\n",
      "         [0.5993, 0.9791, 0.3860, 0.4968],\n",
      "         [0.5612, 0.9265, 0.0461, 0.9692],\n",
      "         [0.4124, 0.8956, 0.4204, 0.5672]],\n",
      "\n",
      "        [[0.2058, 0.3900, 0.8451, 0.8807],\n",
      "         [0.0367, 0.7638, 0.2982, 0.2303],\n",
      "         [0.4153, 0.7862, 0.3331, 0.9092],\n",
      "         [0.6770, 0.1765, 0.3368, 0.0541]]])\n"
     ]
    }
   ],
   "source": [
    "import torch\n",
    "\n",
    "scalar = torch.rand(1)\n",
    "vector = torch.rand(2,)\n",
    "matrix = torch.rand(3,3)\n",
    "tensor = torch.rand(4,4,4)\n",
    "print(scalar)\n",
    "print(vector)\n",
    "print(matrix)\n",
    "print(tensor)"
   ]
  }
 ],
 "metadata": {
  "kernelspec": {
   "display_name": "Python 3",
   "language": "python",
   "name": "python3"
  },
  "language_info": {
   "codemirror_mode": {
    "name": "ipython",
    "version": 3
   },
   "file_extension": ".py",
   "mimetype": "text/x-python",
   "name": "python",
   "nbconvert_exporter": "python",
   "pygments_lexer": "ipython3",
   "version": "3.12.6"
  }
 },
 "nbformat": 4,
 "nbformat_minor": 2
}
