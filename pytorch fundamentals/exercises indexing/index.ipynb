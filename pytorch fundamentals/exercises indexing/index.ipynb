{
 "cells": [
  {
   "cell_type": "markdown",
   "metadata": {},
   "source": [
    "# Index\n"
   ]
  },
  {
   "cell_type": "code",
   "execution_count": 9,
   "metadata": {},
   "outputs": [
    {
     "name": "stdout",
     "output_type": "stream",
     "text": [
      "The tensor it's:\n",
      "tensor([[9., 2., 2.],\n",
      "        [8., 9., 9.],\n",
      "        [7., 5., 8.]], dtype=torch.float16)\n",
      "\n",
      "\n",
      "The first elemnt of the tensor it's -> 9.0\n",
      "The last element of the tensor it's -> 8.0\n",
      "The mid element of the tensor it's -> 9.0\n"
     ]
    }
   ],
   "source": [
    "import torch\n",
    "\n",
    "tensor = torch.randint(1, 10, (3, 3), dtype=torch.float16)\n",
    "print(f\"The tensor it's:\\n{tensor}\")\n",
    "print(f\"\\n\\nThe first elemnt of the tensor it's -> {tensor[0, 0]}\")\n",
    "print(f\"The last element of the tensor it's -> {tensor[2, 2]}\")\n",
    "print(f\"The mid element of the tensor it's -> {tensor[1, 1]}\")"
   ]
  }
 ],
 "metadata": {
  "kernelspec": {
   "display_name": "Python 3",
   "language": "python",
   "name": "python3"
  },
  "language_info": {
   "codemirror_mode": {
    "name": "ipython",
    "version": 3
   },
   "file_extension": ".py",
   "mimetype": "text/x-python",
   "name": "python",
   "nbconvert_exporter": "python",
   "pygments_lexer": "ipython3",
   "version": "3.12.6"
  }
 },
 "nbformat": 4,
 "nbformat_minor": 2
}
