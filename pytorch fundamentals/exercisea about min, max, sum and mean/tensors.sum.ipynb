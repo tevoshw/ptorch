{
 "cells": [
  {
   "cell_type": "markdown",
   "metadata": {},
   "source": [
    "# Matrix SUM \n",
    "#### We can sum all the elements in a tensor, matrix, vector and etc, this called SUM FUNCTION, when ever number in gonna be sum, we use the `x.sum()` a python function, and also `torch.sum(x)` the torch's function"
   ]
  },
  {
   "cell_type": "code",
   "execution_count": 1,
   "metadata": {},
   "outputs": [
    {
     "name": "stdout",
     "output_type": "stream",
     "text": [
      "tensor([[0.7974, 0.2140, 0.9582],\n",
      "        [0.0250, 0.2230, 0.5069],\n",
      "        [0.0378, 0.7836, 0.7704]])\n",
      "The SUM VALUE about the tensor using the python's fuction is: 4.32\n",
      "The SUM VALUE about the tensor using the torch's fuction is: 4.32\n"
     ]
    }
   ],
   "source": [
    "import torch\n",
    "\n",
    "tensor = torch.rand((3,3), dtype= torch.float32)\n",
    "print(tensor)\n",
    "print(f\"The SUM VALUE about the tensor using the python's fuction is: {tensor.sum():.2f}\")\n",
    "print(f\"The SUM VALUE about the tensor using the torch's fuction is: {torch.sum(tensor):.2f}\")"
   ]
  }
 ],
 "metadata": {
  "kernelspec": {
   "display_name": "Python 3",
   "language": "python",
   "name": "python3"
  },
  "language_info": {
   "codemirror_mode": {
    "name": "ipython",
    "version": 3
   },
   "file_extension": ".py",
   "mimetype": "text/x-python",
   "name": "python",
   "nbconvert_exporter": "python",
   "pygments_lexer": "ipython3",
   "version": "3.12.6"
  }
 },
 "nbformat": 4,
 "nbformat_minor": 2
}
