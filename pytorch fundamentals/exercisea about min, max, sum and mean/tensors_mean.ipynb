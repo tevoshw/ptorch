{
 "cells": [
  {
   "cell_type": "markdown",
   "metadata": {},
   "source": [
    "# Matrix MEAN\n",
    "#### In every tensor, matrix, vector and etc, we have the mean, the sum of all the numbers divided by the quantity of elements, this can be usefull for a lot of things, we use the `x.mean()` a python function, and also `torch.mean(x)` the torch's function this type of function REQUIRE A DTYPE FLOAT32, OR ERROR!!!"
   ]
  },
  {
   "cell_type": "code",
   "execution_count": 1,
   "metadata": {},
   "outputs": [
    {
     "name": "stdout",
     "output_type": "stream",
     "text": [
      "tensor([[0.6207, 0.5980, 0.9088],\n",
      "        [0.1129, 0.8489, 0.2662],\n",
      "        [0.2943, 0.7195, 0.2273]])\n",
      "The MEAN VALUE about the tensor using the python's fuction is: 0.51\n",
      "The MEAN VALUE about the tensor using the torch's fuction is: 0.51\n"
     ]
    }
   ],
   "source": [
    "import torch\n",
    "\n",
    "tensor = torch.rand((3,3), dtype= torch.float32)\n",
    "print(tensor)\n",
    "print(f\"The MEAN VALUE about the tensor using the python's fuction is: {tensor.mean():.2f}\")\n",
    "print(f\"The MEAN VALUE about the tensor using the torch's fuction is: {torch.mean(tensor):.2f}\")"
   ]
  }
 ],
 "metadata": {
  "kernelspec": {
   "display_name": "Python 3",
   "language": "python",
   "name": "python3"
  },
  "language_info": {
   "codemirror_mode": {
    "name": "ipython",
    "version": 3
   },
   "file_extension": ".py",
   "mimetype": "text/x-python",
   "name": "python",
   "nbconvert_exporter": "python",
   "pygments_lexer": "ipython3",
   "version": "3.12.6"
  }
 },
 "nbformat": 4,
 "nbformat_minor": 2
}
