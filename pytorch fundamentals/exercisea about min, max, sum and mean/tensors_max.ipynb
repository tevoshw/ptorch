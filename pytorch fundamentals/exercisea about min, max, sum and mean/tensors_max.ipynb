{
 "cells": [
  {
   "cell_type": "markdown",
   "metadata": {},
   "source": [
    "# Matrix max values\n",
    "#### So in ever vector, matrix, tensor and etc gonna be a MAX value, the greatest number of a sequency of numbers, in some cases it's usefull to find this max value, we can use `x.max(y)` the own python has this fuction and `tensor.max(x)` this a pytorch function to find the min, and we can see this position with `x.argmax(y)`"
   ]
  },
  {
   "cell_type": "code",
   "execution_count": 1,
   "metadata": {},
   "outputs": [
    {
     "name": "stdout",
     "output_type": "stream",
     "text": [
      "tensor([[0.4089, 0.5403, 0.1223],\n",
      "        [0.4778, 0.0085, 0.2520],\n",
      "        [0.5930, 0.9687, 0.4640]])\n",
      "The MAX VALUE about the tensor using the python's fuction is: 0.97, and his position is: index[7]\n",
      "The MAX VALUE about the tensor using the torch's fuction is: 0.97, and his position is: index[7]\n"
     ]
    }
   ],
   "source": [
    "import torch\n",
    "\n",
    "tensor = torch.rand((3,3), dtype= torch.float32)\n",
    "print(tensor)\n",
    "print(f\"The MAX VALUE about the tensor using the python's fuction is: {tensor.max():.2f}, and his position is: index[{tensor.argmax()}]\")\n",
    "print(f\"The MAX VALUE about the tensor using the torch's fuction is: {torch.max(tensor):.2f}, and his position is: index[{tensor.argmax()}]\")"
   ]
  }
 ],
 "metadata": {
  "kernelspec": {
   "display_name": "Python 3",
   "language": "python",
   "name": "python3"
  },
  "language_info": {
   "codemirror_mode": {
    "name": "ipython",
    "version": 3
   },
   "file_extension": ".py",
   "mimetype": "text/x-python",
   "name": "python",
   "nbconvert_exporter": "python",
   "pygments_lexer": "ipython3",
   "version": "3.12.6"
  }
 },
 "nbformat": 4,
 "nbformat_minor": 2
}
