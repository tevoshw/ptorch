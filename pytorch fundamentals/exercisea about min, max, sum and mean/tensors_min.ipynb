{
 "cells": [
  {
   "cell_type": "markdown",
   "metadata": {},
   "source": [
    "# Matrix min values\n",
    "#### So in ever vector, matrix, tensor and etc gonna be a MIN value, the smallest number of a sequency of numbers, in some cases it's usefull to find this min value, we can use `x.min(y)` the own python has this fuction and `tensor.min(x)` this a pytorch function to find the , and we can see this position with `x.argmin(y)`"
   ]
  },
  {
   "cell_type": "code",
   "execution_count": 5,
   "metadata": {},
   "outputs": [
    {
     "name": "stdout",
     "output_type": "stream",
     "text": [
      "tensor([[0.5356, 0.8917, 0.7740],\n",
      "        [0.5825, 0.6545, 0.5361],\n",
      "        [0.5794, 0.0969, 0.2547]])\n",
      "The MIN VALUE about the tensor using the python's fuction is: 0.10, and his position is: index[7]\n",
      "The MIN VALUE about the tensor using the torch's fuction is: 0.10, and his position is: index[7]\n"
     ]
    }
   ],
   "source": [
    "import torch\n",
    "\n",
    "tensor = torch.rand((3,3), dtype= torch.float32)\n",
    "print(tensor)\n",
    "print(f\"The MIN VALUE about the tensor using the python's fuction is: {tensor.min():.2f}, and his position is: index[{tensor.argmin()}]\")\n",
    "print(f\"The MIN VALUE about the tensor using the torch's fuction is: {torch.min(tensor):.2f}, and his position is: index[{tensor.argmin()}]\")"
   ]
  }
 ],
 "metadata": {
  "kernelspec": {
   "display_name": "Python 3",
   "language": "python",
   "name": "python3"
  },
  "language_info": {
   "codemirror_mode": {
    "name": "ipython",
    "version": 3
   },
   "file_extension": ".py",
   "mimetype": "text/x-python",
   "name": "python",
   "nbconvert_exporter": "python",
   "pygments_lexer": "ipython3",
   "version": "3.12.6"
  }
 },
 "nbformat": 4,
 "nbformat_minor": 2
}
