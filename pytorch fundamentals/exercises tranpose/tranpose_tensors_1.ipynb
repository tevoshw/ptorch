{
 "cells": [
  {
   "cell_type": "markdown",
   "metadata": {},
   "source": [
    "# EASY LEVEL\n",
    "##### Create a 2x3 tensor with dtype float 32 and transpose it with a dtype float16"
   ]
  },
  {
   "cell_type": "code",
   "execution_count": 5,
   "metadata": {},
   "outputs": [
    {
     "name": "stdout",
     "output_type": "stream",
     "text": [
      "After -> 2x3 TENSOR with dtype FLOAT32:\n",
      "tensor([[0.4199, 0.7421, 0.4922],\n",
      "        [0.2575, 0.6152, 0.1586]]), dtype=torch.float32\n",
      "\n",
      "\n",
      "Before -> 3x2 TENSOR with dtype FLOAT16:\n",
      "tensor([[0.4199, 0.7422],\n",
      "        [0.4922, 0.2576],\n",
      "        [0.6152, 0.1586]], dtype=torch.float16)\n"
     ]
    }
   ],
   "source": [
    "import torch \n",
    "\n",
    "tensor23 = torch.rand((2, 3))\n",
    "transposed_tensor = tensor23.reshape(3, 2).type(dtype = torch.float16)\n",
    "\n",
    "print(f\"After -> 2x3 TENSOR with dtype FLOAT32:\\n{tensor23}, dtype={tensor23.dtype}\")\n",
    "print(f\"\\n\\nBefore -> 3x2 TENSOR with dtype FLOAT16:\\n{transposed_tensor}\")\n",
    "\n"
   ]
  }
 ],
 "metadata": {
  "kernelspec": {
   "display_name": "Python 3",
   "language": "python",
   "name": "python3"
  },
  "language_info": {
   "codemirror_mode": {
    "name": "ipython",
    "version": 3
   },
   "file_extension": ".py",
   "mimetype": "text/x-python",
   "name": "python",
   "nbconvert_exporter": "python",
   "pygments_lexer": "ipython3",
   "version": "3.12.6"
  }
 },
 "nbformat": 4,
 "nbformat_minor": 2
}
