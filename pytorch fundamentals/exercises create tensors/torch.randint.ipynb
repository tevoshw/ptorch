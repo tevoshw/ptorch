{
 "cells": [
  {
   "cell_type": "markdown",
   "metadata": {},
   "source": [
    "# Tensor randint\n",
    "\n",
    "##### `Tensor.randint` it's a way to create tensors in any dimensions, `tensor.randint(x,y, (size))` gonna create the tensor with randoms numbers between x and y, like the exemple below:"
   ]
  },
  {
   "cell_type": "code",
   "execution_count": 25,
   "metadata": {},
   "outputs": [
    {
     "name": "stdout",
     "output_type": "stream",
     "text": [
      "tensor(5)\n",
      "tensor([2, 4])\n",
      "tensor([[24, 22, 11],\n",
      "        [19, 15, 23],\n",
      "        [ 2, 29, 22]])\n",
      "tensor([[24,  1, 16,  7],\n",
      "        [33,  1, 32, 34],\n",
      "        [26, 34, 27, 26],\n",
      "        [29, 25,  3, 18]])\n"
     ]
    }
   ],
   "source": [
    "import torch\n",
    "\n",
    "scalar = torch.randint(1,10, ()) # OR TORCH.RANDINT(X, (SIZE)) CREATE A TENSOR WITH NUMBES LESS THEN X\n",
    "vector = torch.randint(1,20,(2,)) # OR TORCH.RANDINT(X, (SIZE)) CREATE A TENSOR WITH NUMBES LESS THEN X\n",
    "matrix = torch.randint(1,30,(3,3)) # OR TORCH.RANDINT(X, (SIZE)) CREATE A TENSOR WITH NUMBES LESS THEN X\n",
    "tensor = torch.randint(1,40,(4,4)) # OR TORCH.RANDINT(X, (SIZE)) CREATE A TENSOR WITH NUMBES LESS THEN X\n",
    "print(scalar)\n",
    "print(vector)\n",
    "print(matrix)\n",
    "print(tensor)"
   ]
  }
 ],
 "metadata": {
  "kernelspec": {
   "display_name": "Python 3",
   "language": "python",
   "name": "python3"
  },
  "language_info": {
   "codemirror_mode": {
    "name": "ipython",
    "version": 3
   },
   "file_extension": ".py",
   "mimetype": "text/x-python",
   "name": "python",
   "nbconvert_exporter": "python",
   "pygments_lexer": "ipython3",
   "version": "3.12.6"
  }
 },
 "nbformat": 4,
 "nbformat_minor": 2
}
