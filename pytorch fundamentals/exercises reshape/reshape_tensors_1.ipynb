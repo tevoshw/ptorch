{
 "cells": [
  {
   "cell_type": "markdown",
   "metadata": {},
   "source": [
    "# EASY LEVEL\n",
    "##### Create a 1D tensor with 6 elements and reshape it to a 2D tensor with 2 rows and 3 columns.\n"
   ]
  },
  {
   "cell_type": "code",
   "execution_count": 2,
   "metadata": {},
   "outputs": [
    {
     "name": "stdout",
     "output_type": "stream",
     "text": [
      "After as a 1D TENSOR:\n",
      "tensor([0.2136, 0.6892, 0.5284, 0.6018, 0.1387, 0.0114])\n",
      "\n",
      "\n",
      "Before as 2D TENSOR:\n",
      "tensor([[0.2136, 0.6892, 0.5284],\n",
      "        [0.6018, 0.1387, 0.0114]])\n"
     ]
    }
   ],
   "source": [
    "import torch \n",
    "\n",
    "tensor = torch.rand((6,))\n",
    "reshaped_tensor = tensor.reshape(2, 3)\n",
    "\n",
    "print(f\"After as a 1D TENSOR:\\n{tensor}\")\n",
    "print(f\"\\n\\nBefore as 2D TENSOR:\\n{reshaped_tensor}\")"
   ]
  }
 ],
 "metadata": {
  "kernelspec": {
   "display_name": "Python 3",
   "language": "python",
   "name": "python3"
  },
  "language_info": {
   "codemirror_mode": {
    "name": "ipython",
    "version": 3
   },
   "file_extension": ".py",
   "mimetype": "text/x-python",
   "name": "python",
   "nbconvert_exporter": "python",
   "pygments_lexer": "ipython3",
   "version": "3.12.6"
  }
 },
 "nbformat": 4,
 "nbformat_minor": 2
}
