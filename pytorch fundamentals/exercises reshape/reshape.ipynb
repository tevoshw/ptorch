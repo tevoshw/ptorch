{
 "cells": [
  {
   "cell_type": "markdown",
   "metadata": {},
   "source": [
    "# Reshape"
   ]
  },
  {
   "cell_type": "code",
   "execution_count": 2,
   "metadata": {},
   "outputs": [
    {
     "name": "stdout",
     "output_type": "stream",
     "text": [
      "After: torch.Size([2, 3])\n",
      "tensor([[3., 1., 1.],\n",
      "        [2., 2., 3.]], dtype=torch.float16)\n",
      "\n",
      "Before: torch.Size([3, 2])\n",
      "tensor([[3., 1.],\n",
      "        [1., 2.],\n",
      "        [2., 3.]], dtype=torch.float16)\n"
     ]
    }
   ],
   "source": [
    "import torch \n",
    "\n",
    "tensor = torch.randint(1, 5, (2, 3), dtype= torch.float16)\n",
    "tensor_reshaped = tensor.reshape(3, 2)\n",
    "\n",
    "print(f\"After: {tensor.shape}\\n{tensor}\\n\")\n",
    "print(f\"Before: {tensor_reshaped.shape}\\n{tensor_reshaped}\")"
   ]
  }
 ],
 "metadata": {
  "kernelspec": {
   "display_name": "Python 3",
   "language": "python",
   "name": "python3"
  },
  "language_info": {
   "codemirror_mode": {
    "name": "ipython",
    "version": 3
   },
   "file_extension": ".py",
   "mimetype": "text/x-python",
   "name": "python",
   "nbconvert_exporter": "python",
   "pygments_lexer": "ipython3",
   "version": "3.12.6"
  }
 },
 "nbformat": 4,
 "nbformat_minor": 2
}
