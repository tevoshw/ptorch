{
 "cells": [
  {
   "cell_type": "code",
   "execution_count": null,
   "metadata": {},
   "outputs": [
    {
     "name": "stdout",
     "output_type": "stream",
     "text": [
      "2.4.1+cpu\n"
     ]
    }
   ],
   "source": [
    "# See the torchs version\n",
    "import torch\n",
    "print(torch.__version__)"
   ]
  },
  {
   "cell_type": "markdown",
   "metadata": {},
   "source": [
    "# Introduction to the tensor\n",
    "\n",
    "###    Creating using `torch.tensor`"
   ]
  },
  {
   "cell_type": "code",
   "execution_count": 9,
   "metadata": {},
   "outputs": [
    {
     "name": "stdout",
     "output_type": "stream",
     "text": [
      "tensor(7)\n",
      "0\n",
      "7\n"
     ]
    }
   ],
   "source": [
    "# Scalar\n",
    "scalar = torch.tensor(7)\n",
    "print(scalar) # See the tensor\n",
    "print(scalar.ndim) # See the tensor dimensions\n",
    "print(scalar.item()) # Get the tensor as a int nubmer"
   ]
  },
  {
   "cell_type": "code",
   "execution_count": null,
   "metadata": {},
   "outputs": [
    {
     "name": "stdout",
     "output_type": "stream",
     "text": [
      "tensor([1, 2, 3])\n",
      "1\n",
      "torch.Size([3])\n"
     ]
    }
   ],
   "source": [
    "# Vector\n",
    "\n",
    "vector = torch.tensor([1,2,3])\n",
    "print(vector) # See the tensor\n",
    "print(vector.ndim) # See the dimensions\n",
    "print(vector.shape) # See ROWs"
   ]
  },
  {
   "cell_type": "code",
   "execution_count": 17,
   "metadata": {},
   "outputs": [
    {
     "name": "stdout",
     "output_type": "stream",
     "text": [
      "tensor([[1, 2, 3],\n",
      "        [4, 5, 6]])\n",
      "2\n",
      "torch.Size([2, 3])\n"
     ]
    }
   ],
   "source": [
    "# Matrix\n",
    "\n",
    "matrix = torch.tensor([ [1,2,3], [4,5,6]])\n",
    "print(matrix) # See the tensor\n",
    "print(matrix.ndim) # See the tensor dimensions\n",
    "print(matrix.shape) # See the ROWS/COLUMNS"
   ]
  },
  {
   "cell_type": "markdown",
   "metadata": {},
   "source": [
    "# Randons Tensors"
   ]
  },
  {
   "cell_type": "markdown",
   "metadata": {},
   "source": [
    "`Create a random tensor -> Look at the data -> Update randoms numbers -> Look at the data`"
   ]
  },
  {
   "cell_type": "code",
   "execution_count": 19,
   "metadata": {},
   "outputs": [
    {
     "name": "stdout",
     "output_type": "stream",
     "text": [
      "tensor([[0.8242, 0.2673, 0.1189],\n",
      "        [0.6538, 0.9852, 0.9926],\n",
      "        [0.2319, 0.0351, 0.5422]])\n"
     ]
    }
   ],
   "source": [
    "random_tensors = torch.rand(3,3)\n",
    "print(random_tensors) # See the tensors"
   ]
  },
  {
   "cell_type": "markdown",
   "metadata": {},
   "source": [
    "# Zeros and ones tensors\n",
    "`torch.zeros, torch.ones`"
   ]
  },
  {
   "cell_type": "code",
   "execution_count": 21,
   "metadata": {},
   "outputs": [
    {
     "name": "stdout",
     "output_type": "stream",
     "text": [
      "tensor([[0., 0., 0.],\n",
      "        [0., 0., 0.],\n",
      "        [0., 0., 0.]])\n"
     ]
    }
   ],
   "source": [
    "zeros_tensors = torch.zeros(3,3)\n",
    "print(zeros_tensors)"
   ]
  },
  {
   "cell_type": "code",
   "execution_count": 24,
   "metadata": {},
   "outputs": [
    {
     "name": "stdout",
     "output_type": "stream",
     "text": [
      "tensor([[1., 1., 1.],\n",
      "        [1., 1., 1.],\n",
      "        [1., 1., 1.]])\n"
     ]
    }
   ],
   "source": [
    "one_tensors = torch.ones(3,3)\n",
    "print(one_tensors)"
   ]
  },
  {
   "cell_type": "markdown",
   "metadata": {},
   "source": [
    "# Creating a range of tensors\n",
    "\n",
    "`torch.arange`"
   ]
  },
  {
   "cell_type": "code",
   "execution_count": 26,
   "metadata": {},
   "outputs": [
    {
     "name": "stdout",
     "output_type": "stream",
     "text": [
      "tensor([0])\n"
     ]
    }
   ],
   "source": [
    "tensors_ranges = torch.arange(start=0, end=1, step=1)\n",
    "print(tensors_ranges)"
   ]
  },
  {
   "cell_type": "code",
   "execution_count": 27,
   "metadata": {},
   "outputs": [
    {
     "name": "stdout",
     "output_type": "stream",
     "text": [
      "tensor([ 0, 10, 20, 30, 40, 50, 60, 70, 80, 90])\n"
     ]
    }
   ],
   "source": [
    "tensors_ranges = torch.arange(start=0, end=100, step=10)\n",
    "print(tensors_ranges)"
   ]
  },
  {
   "cell_type": "code",
   "execution_count": 46,
   "metadata": {},
   "outputs": [
    {
     "name": "stdout",
     "output_type": "stream",
     "text": [
      "tensor([  0,   3,   6,   9,  12,  15,  18,  21,  24,  27,  30,  33,  36,  39,\n",
      "         42,  45,  48,  51,  54,  57,  60,  63,  66,  69,  72,  75,  78,  81,\n",
      "         84,  87,  90,  93,  96,  99, 102, 105, 108, 111, 114, 117, 120, 123,\n",
      "        126, 129, 132, 135, 138, 141, 144, 147, 150, 153, 156, 159, 162, 165,\n",
      "        168, 171, 174, 177, 180, 183, 186, 189, 192, 195, 198, 201, 204, 207,\n",
      "        210, 213, 216, 219, 222, 225, 228, 231, 234, 237, 240, 243, 246, 249,\n",
      "        252, 255, 258, 261, 264, 267, 270, 273, 276, 279, 282, 285, 288, 291,\n",
      "        294, 297, 300, 303, 306, 309, 312, 315, 318, 321, 324, 327, 330, 333,\n",
      "        336, 339, 342, 345, 348, 351, 354, 357, 360, 363, 366, 369, 372, 375,\n",
      "        378, 381, 384, 387, 390, 393, 396, 399, 402, 405, 408, 411, 414, 417,\n",
      "        420, 423, 426, 429, 432, 435, 438, 441, 444, 447, 450, 453, 456, 459,\n",
      "        462, 465, 468, 471, 474, 477, 480, 483, 486, 489, 492, 495, 498, 501,\n",
      "        504, 507, 510, 513, 516, 519, 522, 525, 528, 531, 534, 537, 540, 543,\n",
      "        546, 549, 552, 555, 558, 561, 564, 567, 570, 573, 576, 579, 582, 585,\n",
      "        588, 591, 594, 597, 600, 603, 606, 609, 612, 615, 618, 621, 624, 627,\n",
      "        630, 633, 636, 639, 642, 645, 648, 651])\n"
     ]
    }
   ],
   "source": [
    "tensors_ranges = torch.arange(start=0, end=654, step=3, dtype=torch.int64)\n",
    "print(tensors_ranges)"
   ]
  },
  {
   "cell_type": "markdown",
   "metadata": {},
   "source": [
    "# Create tensors like\n",
    "`tensor.x_like`"
   ]
  },
  {
   "cell_type": "code",
   "execution_count": null,
   "metadata": {},
   "outputs": [
    {
     "name": "stdout",
     "output_type": "stream",
     "text": [
      "tensor([0, 0, 0, 0, 0, 0, 0, 0, 0, 0, 0, 0, 0, 0, 0, 0, 0, 0, 0, 0, 0, 0, 0, 0,\n",
      "        0, 0, 0, 0, 0, 0, 0, 0, 0, 0, 0, 0, 0, 0, 0, 0, 0, 0, 0, 0, 0, 0, 0, 0,\n",
      "        0, 0, 0, 0, 0, 0, 0, 0, 0, 0, 0, 0, 0, 0, 0, 0, 0, 0, 0, 0, 0, 0, 0, 0,\n",
      "        0, 0, 0, 0, 0, 0, 0, 0, 0, 0, 0, 0, 0, 0, 0, 0, 0, 0, 0, 0, 0, 0, 0, 0,\n",
      "        0, 0, 0, 0, 0, 0, 0, 0, 0, 0, 0, 0, 0, 0, 0, 0, 0, 0, 0, 0, 0, 0, 0, 0,\n",
      "        0, 0, 0, 0, 0, 0, 0, 0, 0, 0, 0, 0, 0, 0, 0, 0, 0, 0, 0, 0, 0, 0, 0, 0,\n",
      "        0, 0, 0, 0, 0, 0, 0, 0, 0, 0, 0, 0, 0, 0, 0, 0, 0, 0, 0, 0, 0, 0, 0, 0,\n",
      "        0, 0, 0, 0, 0, 0, 0, 0, 0, 0, 0, 0, 0, 0, 0, 0, 0, 0, 0, 0, 0, 0, 0, 0,\n",
      "        0, 0, 0, 0, 0, 0, 0, 0, 0, 0, 0, 0, 0, 0, 0, 0, 0, 0, 0, 0, 0, 0, 0, 0,\n",
      "        0, 0])\n"
     ]
    }
   ],
   "source": [
    "tensors_like = torch.zeros_like(tensors_ranges)\n",
    "print(tensors_like) # This get the all numbers of tensors_ranges and transform into 0 with the like"
   ]
  },
  {
   "cell_type": "code",
   "execution_count": 31,
   "metadata": {},
   "outputs": [
    {
     "name": "stdout",
     "output_type": "stream",
     "text": [
      "tensor([1, 1, 1, 1, 1, 1, 1, 1, 1, 1, 1, 1, 1, 1, 1, 1, 1, 1, 1, 1, 1, 1, 1, 1,\n",
      "        1, 1, 1, 1, 1, 1, 1, 1, 1, 1, 1, 1, 1, 1, 1, 1, 1, 1, 1, 1, 1, 1, 1, 1,\n",
      "        1, 1, 1, 1, 1, 1, 1, 1, 1, 1, 1, 1, 1, 1, 1, 1, 1, 1, 1, 1, 1, 1, 1, 1,\n",
      "        1, 1, 1, 1, 1, 1, 1, 1, 1, 1, 1, 1, 1, 1, 1, 1, 1, 1, 1, 1, 1, 1, 1, 1,\n",
      "        1, 1, 1, 1, 1, 1, 1, 1, 1, 1, 1, 1, 1, 1, 1, 1, 1, 1, 1, 1, 1, 1, 1, 1,\n",
      "        1, 1, 1, 1, 1, 1, 1, 1, 1, 1, 1, 1, 1, 1, 1, 1, 1, 1, 1, 1, 1, 1, 1, 1,\n",
      "        1, 1, 1, 1, 1, 1, 1, 1, 1, 1, 1, 1, 1, 1, 1, 1, 1, 1, 1, 1, 1, 1, 1, 1,\n",
      "        1, 1, 1, 1, 1, 1, 1, 1, 1, 1, 1, 1, 1, 1, 1, 1, 1, 1, 1, 1, 1, 1, 1, 1,\n",
      "        1, 1, 1, 1, 1, 1, 1, 1, 1, 1, 1, 1, 1, 1, 1, 1, 1, 1, 1, 1, 1, 1, 1, 1,\n",
      "        1, 1])\n"
     ]
    }
   ],
   "source": [
    "tensors_like = torch.ones_like(tensors_ranges)\n",
    "print(tensors_like) # This get the all numbers of tensors_ranges and transform into 0 with the like"
   ]
  },
  {
   "cell_type": "code",
   "execution_count": 34,
   "metadata": {},
   "outputs": [
    {
     "name": "stdout",
     "output_type": "stream",
     "text": [
      "tensor([10, 10, 10, 10, 10, 10, 10, 10, 10, 10, 10, 10, 10, 10, 10, 10, 10, 10,\n",
      "        10, 10, 10, 10, 10, 10, 10, 10, 10, 10, 10, 10, 10, 10, 10, 10, 10, 10,\n",
      "        10, 10, 10, 10, 10, 10, 10, 10, 10, 10, 10, 10, 10, 10, 10, 10, 10, 10,\n",
      "        10, 10, 10, 10, 10, 10, 10, 10, 10, 10, 10, 10, 10, 10, 10, 10, 10, 10,\n",
      "        10, 10, 10, 10, 10, 10, 10, 10, 10, 10, 10, 10, 10, 10, 10, 10, 10, 10,\n",
      "        10, 10, 10, 10, 10, 10, 10, 10, 10, 10, 10, 10, 10, 10, 10, 10, 10, 10,\n",
      "        10, 10, 10, 10, 10, 10, 10, 10, 10, 10, 10, 10, 10, 10, 10, 10, 10, 10,\n",
      "        10, 10, 10, 10, 10, 10, 10, 10, 10, 10, 10, 10, 10, 10, 10, 10, 10, 10,\n",
      "        10, 10, 10, 10, 10, 10, 10, 10, 10, 10, 10, 10, 10, 10, 10, 10, 10, 10,\n",
      "        10, 10, 10, 10, 10, 10, 10, 10, 10, 10, 10, 10, 10, 10, 10, 10, 10, 10,\n",
      "        10, 10, 10, 10, 10, 10, 10, 10, 10, 10, 10, 10, 10, 10, 10, 10, 10, 10,\n",
      "        10, 10, 10, 10, 10, 10, 10, 10, 10, 10, 10, 10, 10, 10, 10, 10, 10, 10,\n",
      "        10, 10])\n"
     ]
    }
   ],
   "source": [
    "tensors_like = torch.full_like(tensors_ranges, 10)\n",
    "print(tensors_like) # This get the all numbers of tensors_ranges and transform into 0 with the like"
   ]
  },
  {
   "cell_type": "code",
   "execution_count": 48,
   "metadata": {},
   "outputs": [
    {
     "name": "stdout",
     "output_type": "stream",
     "text": [
      "tensor([ 0.4526,  0.2082,  1.9648, -0.3859, -1.0269,  0.0661, -2.0183, -0.7160,\n",
      "         0.4735,  0.1768,  0.1746, -0.6255,  0.8435, -0.1649,  0.5738,  0.0936,\n",
      "         0.6149, -0.5784, -0.1579,  0.5867,  1.4121,  0.4130, -1.2806,  1.1760,\n",
      "        -0.2030,  0.1163, -0.0651,  1.4445,  1.6362, -0.3415, -0.8976,  0.6354,\n",
      "        -0.1896,  0.2641,  0.0113,  1.9465, -0.6006, -0.4956,  0.7732, -0.6521,\n",
      "        -2.0713,  2.9314, -1.3166,  1.1424, -0.7618, -0.1697,  1.7925, -0.6306,\n",
      "        -0.1826, -0.5659,  0.6743, -0.1997, -0.5701,  1.4454, -0.7417, -0.8904,\n",
      "         0.4262,  0.2627, -1.0767, -0.6314,  0.0762, -0.3092, -0.5018,  0.5332,\n",
      "         2.3700,  0.9924, -1.5296, -0.3334, -1.4482, -0.0031,  1.4099,  0.7905,\n",
      "        -0.6044,  1.0017, -1.0471, -1.9743,  0.2443, -0.0411,  0.1144, -0.1283,\n",
      "         0.6333, -0.3741,  0.5094, -0.9049,  1.2877,  0.8903, -0.6081, -0.0653,\n",
      "        -0.2355,  0.8571, -0.9872, -0.7457,  1.0263, -0.0982, -1.4638,  0.8870,\n",
      "         1.1409, -0.8934,  0.7158, -0.8197,  0.1428, -0.2230,  1.1692, -1.5563,\n",
      "         0.9699,  0.7223, -1.2186,  0.4632,  0.2911,  0.8650, -0.9137,  0.8721,\n",
      "        -0.2538,  0.0974,  0.1991,  0.9080, -0.6627, -0.0845, -0.7985, -0.0417,\n",
      "        -0.4440, -0.4663,  1.6055,  0.7368, -0.1607, -0.4660, -0.7602, -0.5799,\n",
      "         0.4009,  1.4555, -0.1239,  0.8897,  1.4775,  2.6207, -0.6851,  2.0721,\n",
      "        -1.6105, -1.4972, -0.6013,  1.2320, -0.6241, -0.7799, -0.4029,  1.4939,\n",
      "         1.4616, -0.3077,  0.1698, -0.8502,  1.5633, -0.0394, -1.3879, -2.4031,\n",
      "         0.8322, -2.1391, -1.5611, -0.6793,  1.1230,  0.3923, -2.2687,  1.9894,\n",
      "        -0.5016,  0.5582,  2.7009,  0.8453, -1.1512, -1.0936, -0.0931, -0.2577,\n",
      "         0.5049,  0.1838, -0.1104, -0.6806, -0.0690,  0.7045, -0.7358,  0.3386,\n",
      "        -0.2699,  0.0910,  0.2433, -2.3500,  0.7862, -1.5619,  1.8373,  0.7491,\n",
      "        -0.3191,  0.3099, -1.2063,  0.6890, -1.4487,  1.0873,  0.5487,  0.7842,\n",
      "        -1.2053,  0.3238, -0.3390, -0.4569, -0.7110,  0.4934, -1.2517, -0.0188,\n",
      "        -1.4021, -0.2004,  0.7021,  0.5717, -0.9778,  1.8369,  0.7585, -0.2444,\n",
      "         1.0201, -0.9740, -2.3128,  2.1355,  0.2846, -2.1199,  0.2326,  0.2128,\n",
      "        -0.1924,  2.5089])\n"
     ]
    }
   ],
   "source": [
    "tensors_like = torch.randn_like(tensors_ranges.to(torch.float))\n",
    "print(tensors_like)"
   ]
  },
  {
   "cell_type": "markdown",
   "metadata": {},
   "source": [
    "# Introduction to dtypes"
   ]
  },
  {
   "cell_type": "markdown",
   "metadata": {},
   "source": [
    "#### Dtype it's the data type of the tensor (int8-64, float16-128 and etc..), this can be used to how the data gonna be representated in the memory"
   ]
  },
  {
   "cell_type": "code",
   "execution_count": 2,
   "metadata": {},
   "outputs": [
    {
     "name": "stdout",
     "output_type": "stream",
     "text": [
      "torch.float16\n",
      "torch.float32\n",
      "torch.float64\n"
     ]
    }
   ],
   "source": [
    "import torch\n",
    "\n",
    "tensor_16 = torch.tensor([1.0, 2.0, 3.0], dtype=torch.float16) \n",
    "tensor_32 = torch.tensor([1.0, 2.0, 3.0], dtype=None) #  By default it's float32 the dtype\n",
    "tensor_64 = torch.tensor([1.0, 2.0, 3.0], dtype=torch.float64)\n",
    "\n",
    "print(tensor_16.dtype)\n",
    "print(tensor_32.dtype)\n",
    "print(tensor_64.dtype)"
   ]
  },
  {
   "cell_type": "markdown",
   "metadata": {},
   "source": [
    "# Getting information from tensors (tensors attributes)"
   ]
  },
  {
   "cell_type": "markdown",
   "metadata": {},
   "source": [
    "##### `tensor.dtype` to get information about the datatype of a tensor\n",
    "##### `tensor.shape` to get information about shape of a tensor\n",
    "##### `tensor.device` to get information about the device of a tensor"
   ]
  },
  {
   "cell_type": "code",
   "execution_count": 16,
   "metadata": {},
   "outputs": [
    {
     "name": "stdout",
     "output_type": "stream",
     "text": [
      "tensor([[0.9530, 0.4240, 0.2577, 0.1159],\n",
      "        [0.6376, 0.5299, 0.6362, 0.9715],\n",
      "        [0.5874, 0.7920, 0.8865, 0.8007]])\n",
      "The datatype of the random tensor it's: torch.float32\n",
      "The shape of the random tensor it's: torch.Size([3, 4])\n",
      "The device of the random tensor it's: cpu\n"
     ]
    }
   ],
   "source": [
    "random_tensor = torch.rand(3,4)\n",
    "print(random_tensor)\n",
    "print(f\"The datatype of the random tensor it's: {random_tensor.dtype}\")\n",
    "print(f\"The shape of the random tensor it's: {random_tensor.shape}\")\n",
    "print(f\"The device of the random tensor it's: {random_tensor.device}\")"
   ]
  },
  {
   "cell_type": "markdown",
   "metadata": {},
   "source": [
    "# Manipulation tensors\n",
    "#### Add, sub, mul and divide"
   ]
  },
  {
   "cell_type": "code",
   "execution_count": 18,
   "metadata": {},
   "outputs": [
    {
     "name": "stdout",
     "output_type": "stream",
     "text": [
      "The process of add numbers in tensor it's 'torch.operation(tensor, x), operations it's the operation that we use (add, sub, mul and div) x it's the number that gonna be add,\n",
      "tensor([1, 2, 3])\n",
      "Add 10 ->: tensor([11, 12, 13])\n",
      "Sub 10 ->: tensor([-9, -8, -7])\n",
      "Mul 10 ->: tensor([10, 20, 30])\n",
      "Div 10 ->: tensor([0.1000, 0.2000, 0.3000])\n"
     ]
    }
   ],
   "source": [
    "tensor = torch.tensor([1,2,3])\n",
    "\n",
    "tensor_add = torch.add(tensor, 10)\n",
    "tensor_sub = torch.sub(tensor, 10)\n",
    "tensor_mul = torch.mul(tensor, 10)\n",
    "tensor_div = torch.div(tensor, 10)\n",
    "\n",
    "print(f\"The process of add numbers in tensor it's 'torch.operation(tensor, x), operations it's the operation that we use (add, sub, mul and div) x it's the number that gonna be add,\")\n",
    "print(tensor)\n",
    "print(F\"Add 10 ->: {torch.add(tensor, 10)}\")\n",
    "print(F\"Sub 10 ->: {torch.sub(tensor, 10)}\")\n",
    "print(F\"Mul 10 ->: {torch.mul(tensor, 10)}\")\n",
    "print(F\"Div 10 ->: {torch.div(tensor, 10)}\")"
   ]
  },
  {
   "cell_type": "markdown",
   "metadata": {},
   "source": [
    "# Reshaping and stacking"
   ]
  },
  {
   "cell_type": "markdown",
   "metadata": {},
   "source": [
    "### Reshape it's the process of change the dimensions of a tensor without change the data, we can manipulate like we want.\n",
    "##### Here we have a vector with 9 itens, it's ( , 9) dimension doens't have rows, just a sequency"
   ]
  },
  {
   "cell_type": "code",
   "execution_count": 12,
   "metadata": {},
   "outputs": [
    {
     "name": "stdout",
     "output_type": "stream",
     "text": [
      "tensor([1., 2., 3., 4., 5., 6., 7., 8., 9.]) torch.Size([9])\n"
     ]
    }
   ],
   "source": [
    "import torch\n",
    "\n",
    "tensor = torch.arange(1, 10, dtype=torch.float32)\n",
    "print(tensor, tensor.size())"
   ]
  },
  {
   "cell_type": "markdown",
   "metadata": {},
   "source": [
    "##### Now we have a matrix, with row and columns (1 , 9)"
   ]
  },
  {
   "cell_type": "code",
   "execution_count": 10,
   "metadata": {},
   "outputs": [
    {
     "name": "stdout",
     "output_type": "stream",
     "text": [
      "tensor([[1., 2., 3., 4., 5., 6., 7., 8., 9.]]) torch.Size([1, 9])\n"
     ]
    }
   ],
   "source": [
    "tensor_reshaped = tensor.reshape(1, 9)\n",
    "print(tensor_reshaped, tensor_reshaped.shape)"
   ]
  },
  {
   "cell_type": "markdown",
   "metadata": {},
   "source": [
    "##### Now we have a matrix, with rows and column (9, 1)"
   ]
  },
  {
   "cell_type": "code",
   "execution_count": 11,
   "metadata": {},
   "outputs": [
    {
     "name": "stdout",
     "output_type": "stream",
     "text": [
      "tensor([[1.],\n",
      "        [2.],\n",
      "        [3.],\n",
      "        [4.],\n",
      "        [5.],\n",
      "        [6.],\n",
      "        [7.],\n",
      "        [8.],\n",
      "        [9.]]) torch.Size([9, 1])\n"
     ]
    }
   ],
   "source": [
    "tensor_reshaped = tensor.reshape(9, 1)\n",
    "print(tensor_reshaped, tensor_reshaped.shape)"
   ]
  },
  {
   "cell_type": "markdown",
   "metadata": {},
   "source": [
    "##### Another example, now we have a matrix (3, 4) and we gonna reshape that"
   ]
  },
  {
   "cell_type": "code",
   "execution_count": 16,
   "metadata": {},
   "outputs": [
    {
     "name": "stdout",
     "output_type": "stream",
     "text": [
      "tensor([[ 1.,  2.,  3.,  4.],\n",
      "        [ 5.,  6.,  7.,  8.],\n",
      "        [ 9., 10., 11., 12.]]) torch.Size([3, 4])\n"
     ]
    }
   ],
   "source": [
    "tensor = torch.arange(1, 13, dtype=torch.float32).reshape(3, 4)\n",
    "print(tensor, tensor.size())"
   ]
  },
  {
   "cell_type": "markdown",
   "metadata": {},
   "source": [
    "##### Now we gonna transform this matrix in a (6, 2)"
   ]
  },
  {
   "cell_type": "code",
   "execution_count": 18,
   "metadata": {},
   "outputs": [
    {
     "name": "stdout",
     "output_type": "stream",
     "text": [
      "tensor([[ 1.,  2.],\n",
      "        [ 3.,  4.],\n",
      "        [ 5.,  6.],\n",
      "        [ 7.,  8.],\n",
      "        [ 9., 10.],\n",
      "        [11., 12.]]) torch.Size([6, 2])\n"
     ]
    }
   ],
   "source": [
    "tensor_reshaped = tensor.reshape(6, 2)\n",
    "print(tensor_reshaped, tensor_reshaped.size())"
   ]
  },
  {
   "cell_type": "markdown",
   "metadata": {},
   "source": [
    "# Stacking"
   ]
  },
  {
   "cell_type": "markdown",
   "metadata": {},
   "source": [
    "#### Stacking it's the process of join two or more tensors in one"
   ]
  },
  {
   "cell_type": "markdown",
   "metadata": {},
   "source": [
    "##### Here we wave a vector (1, 5) and we want to create a (3, 5) matrix with the values of the vector"
   ]
  },
  {
   "cell_type": "code",
   "execution_count": 19,
   "metadata": {},
   "outputs": [
    {
     "name": "stdout",
     "output_type": "stream",
     "text": [
      "tensor([1., 2., 3., 4., 5.], dtype=torch.float16) torch.Size([5])\n"
     ]
    }
   ],
   "source": [
    "tensor = torch.arange(1, 6, dtype=torch.float16)\n",
    "print(tensor, tensor.shape)"
   ]
  },
  {
   "cell_type": "code",
   "execution_count": 22,
   "metadata": {},
   "outputs": [
    {
     "name": "stdout",
     "output_type": "stream",
     "text": [
      "tensor([[1., 2., 3., 4., 5.],\n",
      "        [1., 2., 3., 4., 5.],\n",
      "        [1., 2., 3., 4., 5.]], dtype=torch.float16) torch.Size([3, 5])\n"
     ]
    }
   ],
   "source": [
    "tensors_stacked = torch.stack([tensor, tensor, tensor], dim=0)\n",
    "print(tensors_stacked, tensors_stacked.shape)"
   ]
  },
  {
   "cell_type": "markdown",
   "metadata": {},
   "source": [
    "##### And we can change for a (5, 3), just changing the DIM, so DIM = 1 represents join the tensors in horizontal, and DIM = 0 in vertical"
   ]
  },
  {
   "cell_type": "code",
   "execution_count": 23,
   "metadata": {},
   "outputs": [
    {
     "name": "stdout",
     "output_type": "stream",
     "text": [
      "tensor([[1., 1., 1.],\n",
      "        [2., 2., 2.],\n",
      "        [3., 3., 3.],\n",
      "        [4., 4., 4.],\n",
      "        [5., 5., 5.]], dtype=torch.float16) torch.Size([5, 3])\n"
     ]
    }
   ],
   "source": [
    "tensors_stacked = torch.stack([tensor, tensor, tensor], dim=1)\n",
    "print(tensors_stacked, tensors_stacked.shape)"
   ]
  },
  {
   "cell_type": "markdown",
   "metadata": {},
   "source": [
    "# Squeeze\n",
    "##### It's the process of REMOVE all SINGLE ONE DIMENSIONS, we use the `tensor.squeeze(dim)`, the dim it's the dimension that you want to remove if it's single one `tensor.squeeze(dim = 0)`, if be SINGLE ONEa, will remove only that, like the example bellow:"
   ]
  },
  {
   "cell_type": "code",
   "execution_count": 5,
   "metadata": {},
   "outputs": [
    {
     "name": "stdout",
     "output_type": "stream",
     "text": [
      "Before the squeeze, the tensor it's:\n",
      "tensor([[[3.],\n",
      "         [2.]],\n",
      "\n",
      "        [[5.],\n",
      "         [1.]],\n",
      "\n",
      "        [[3.],\n",
      "         [6.]]], dtype=torch.float16)\n",
      "Before the squeeze, the tensor shape it's: torch.Size([3, 2, 1])\n",
      "\n",
      "\n",
      "After the squeeze, the tensor it's:\n",
      "tensor([[3., 2.],\n",
      "        [5., 1.],\n",
      "        [3., 6.]], dtype=torch.float16)\n",
      "After the squeeze, the tensor shape it's: torch.Size([3, 2])\n"
     ]
    }
   ],
   "source": [
    "import torch\n",
    "tensor = torch.randint(1, 10, (3, 2, 1), dtype=torch.float16)\n",
    "print(f\"Before the squeeze, the tensor it's:\\n{tensor}\")\n",
    "print(f\"Before the squeeze, the tensor shape it's: {tensor.shape}\\n\\n\")\n",
    "\n",
    "tensor_squeezed = tensor.squeeze()\n",
    "print(f\"After the squeeze, the tensor it's:\\n{tensor_squeezed}\")\n",
    "print(f\"After the squeeze, the tensor shape it's: {tensor_squeezed.shape}\")"
   ]
  },
  {
   "cell_type": "code",
   "execution_count": 9,
   "metadata": {},
   "outputs": [
    {
     "name": "stdout",
     "output_type": "stream",
     "text": [
      "Before the squeeze, the tensor it's:\n",
      "tensor([[[[0.6675],\n",
      "          [0.4497]],\n",
      "\n",
      "         [[0.5869],\n",
      "          [0.2930]]]], dtype=torch.float16)\n",
      "Before the squeeze, the tensor shape it's: torch.Size([1, 2, 2, 1])\n",
      "\n",
      "\n",
      "After the squeeze, the tensor it's:\n",
      "tensor([[[0.6675],\n",
      "         [0.4497]],\n",
      "\n",
      "        [[0.5869],\n",
      "         [0.2930]]], dtype=torch.float16)\n",
      "After the squeeze, the tensor shape it's: torch.Size([2, 2, 1])\n"
     ]
    }
   ],
   "source": [
    "tensor = torch.rand((1, 2, 2, 1), dtype=torch.float16)\n",
    "print(f\"Before the squeeze, the tensor it's:\\n{tensor}\")\n",
    "print(f\"Before the squeeze, the tensor shape it's: {tensor.shape}\\n\\n\")\n",
    "\n",
    "tensor_squeezed = tensor.squeeze(dim = 0)\n",
    "print(f\"After the squeeze, the tensor it's:\\n{tensor_squeezed}\")\n",
    "print(f\"After the squeeze, the tensor shape it's: {tensor_squeezed.shape}\")\n",
    "\n",
    "# HERE JUST SQUEEZE THE DIM 0 IF HAVE A SINGLE ONE DIMENSION"
   ]
  },
  {
   "cell_type": "markdown",
   "metadata": {},
   "source": [
    "# Unsqueeze\n",
    "##### It's the process of ADD a SINGLE ONE DIMENSION in EXIST TENSOR, we use the `tensor.unsqueeze(dim)`, the dim it's the dimension that where gonna be placed the new dimension"
   ]
  },
  {
   "cell_type": "code",
   "execution_count": 24,
   "metadata": {},
   "outputs": [
    {
     "name": "stdout",
     "output_type": "stream",
     "text": [
      "Before the unsqueeze, the tensor it's:\n",
      "tensor([[0.7075],\n",
      "        [0.0435]], dtype=torch.float16)\n",
      "Before the unsqueeze, the tensor shape it's: torch.Size([2, 1])\n",
      "\n",
      "\n",
      "After the unsqueeze, the tensor it's:\n",
      "tensor([[[0.7075],\n",
      "         [0.0435]]], dtype=torch.float16)\n",
      "After the unsqueeze, the tensor shape it's: torch.Size([1, 2, 1])\n"
     ]
    }
   ],
   "source": [
    "tensor = torch.rand((2, 1), dtype=torch.float16)\n",
    "print(f\"Before the unsqueeze, the tensor it's:\\n{tensor}\")\n",
    "print(f\"Before the unsqueeze, the tensor shape it's: {tensor.shape}\\n\\n\")\n",
    "\n",
    "tensor_unsqueezed = tensor.unsqueeze(dim = 0)\n",
    "print(f\"After the unsqueeze, the tensor it's:\\n{tensor_unsqueezed}\")\n",
    "print(f\"After the unsqueeze, the tensor shape it's: {tensor_unsqueezed.shape}\")\n",
    "\n"
   ]
  },
  {
   "cell_type": "markdown",
   "metadata": {},
   "source": [
    "# Permuting \n",
    "##### It's the process of REORDER the DIMENSIONS of a TENSOR, we use `tensor.permute(new order of the dimensions)`"
   ]
  },
  {
   "cell_type": "code",
   "execution_count": 28,
   "metadata": {},
   "outputs": [
    {
     "name": "stdout",
     "output_type": "stream",
     "text": [
      "Before the permute, the tensor it's:\n",
      "tensor([[[0.0625, 0.1938, 0.7822],\n",
      "         [0.3535, 0.3794, 0.8101]]], dtype=torch.float16)\n",
      "Before the permute, the tensor shape it's: torch.Size([1, 2, 3])\n",
      "\n",
      "\n",
      "After the permute, the tensor it's:\n",
      "tensor([[[0.0625, 0.3535]],\n",
      "\n",
      "        [[0.1938, 0.3794]],\n",
      "\n",
      "        [[0.7822, 0.8101]]], dtype=torch.float16)\n",
      "After the permute, the tensor shape it's: torch.Size([3, 1, 2])\n"
     ]
    }
   ],
   "source": [
    "tensor = torch.rand((1, 2, 3), dtype=torch.float16)\n",
    "print(f\"Before the permute, the tensor it's:\\n{tensor}\")\n",
    "print(f\"Before the permute, the tensor shape it's: {tensor.shape}\\n\\n\")\n",
    "\n",
    "tensor_permuted = tensor.permute(2, 0, 1)\n",
    "print(f\"After the permute, the tensor it's:\\n{tensor_permuted}\")\n",
    "print(f\"After the permute, the tensor shape it's: {tensor_permuted.shape}\")\n"
   ]
  },
  {
   "cell_type": "markdown",
   "metadata": {},
   "source": [
    "# Indexing \n",
    "##### It's the process of acess the data for index, we use `tensor[x, y, z...]` the letters identify the position of where you want to acess, start's in 0 until the last number - 1"
   ]
  },
  {
   "cell_type": "code",
   "execution_count": 5,
   "metadata": {},
   "outputs": [
    {
     "name": "stdout",
     "output_type": "stream",
     "text": [
      "tensor([0., 1., 2., 3., 4.], dtype=torch.float16)\n",
      "To acess the first element we use the 0, like the example -> tensor[0] = 0.0\n"
     ]
    }
   ],
   "source": [
    "import torch\n",
    "tensor = torch.tensor([0, 1, 2, 3, 4], dtype=torch.float16)\n",
    "print(tensor)\n",
    "print(f\"To acess the first element we use the 0, like the example -> tensor[0] = {tensor[0]}\")"
   ]
  },
  {
   "cell_type": "code",
   "execution_count": 6,
   "metadata": {},
   "outputs": [
    {
     "name": "stdout",
     "output_type": "stream",
     "text": [
      "To acess the second element we use the 1, like the example -> tensor[1] = 1.0\n",
      "To acess the third element we use the 2, like the example -> tensor[2] = 2.0\n"
     ]
    }
   ],
   "source": [
    "# ACESS THE SECOND, THIRD AND MORE....\n",
    "print(f\"To acess the second element we use the 1, like the example -> tensor[1] = {tensor[1]}\")\n",
    "print(f\"To acess the third element we use the 2, like the example -> tensor[2] = {tensor[2]}\")"
   ]
  }
 ],
 "metadata": {
  "kernelspec": {
   "display_name": "Python 3",
   "language": "python",
   "name": "python3"
  },
  "language_info": {
   "codemirror_mode": {
    "name": "ipython",
    "version": 3
   },
   "file_extension": ".py",
   "mimetype": "text/x-python",
   "name": "python",
   "nbconvert_exporter": "python",
   "pygments_lexer": "ipython3",
   "version": "3.12.6"
  }
 },
 "nbformat": 4,
 "nbformat_minor": 2
}
