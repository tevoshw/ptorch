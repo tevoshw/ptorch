{
 "cells": [
  {
   "cell_type": "markdown",
   "metadata": {},
   "source": [
    "# Stacking"
   ]
  },
  {
   "cell_type": "code",
   "execution_count": 6,
   "metadata": {},
   "outputs": [
    {
     "name": "stdout",
     "output_type": "stream",
     "text": [
      "The vector it's: tensor([2., 5., 8.], dtype=torch.float16)\n",
      "\n",
      "\n",
      "The stacked vectors in vertical, now matrix it's:\n",
      "tensor([[2., 5., 8.],\n",
      "        [2., 5., 8.],\n",
      "        [2., 5., 8.],\n",
      "        [2., 5., 8.]], dtype=torch.float16)\n",
      "\n",
      "\n",
      "The stacked vectors in horizontal, now matrix it's:\n",
      "tensor([[2., 2., 2., 2.],\n",
      "        [5., 5., 5., 5.],\n",
      "        [8., 8., 8., 8.]], dtype=torch.float16)\n"
     ]
    }
   ],
   "source": [
    "import torch \n",
    "\n",
    "\n",
    "vector = torch.randint(1, 10, (3,), dtype =torch.float16)\n",
    "stacked_vectors_v = torch.stack([vector, vector, vector, vector], dim = 0)\n",
    "stacked_vectors_h = torch.stack([vector, vector, vector, vector], dim = 1)\n",
    "\n",
    "print(f\"The vector it's: {vector}\")\n",
    "print(f\"\\n\\nThe stacked vectors in vertical, now matrix it's:\\n{stacked_vectors_v}\")\n",
    "print(f\"\\n\\nThe stacked vectors in horizontal, now matrix it's:\\n{stacked_vectors_h}\")"
   ]
  }
 ],
 "metadata": {
  "kernelspec": {
   "display_name": "Python 3",
   "language": "python",
   "name": "python3"
  },
  "language_info": {
   "codemirror_mode": {
    "name": "ipython",
    "version": 3
   },
   "file_extension": ".py",
   "mimetype": "text/x-python",
   "name": "python",
   "nbconvert_exporter": "python",
   "pygments_lexer": "ipython3",
   "version": "3.12.6"
  }
 },
 "nbformat": 4,
 "nbformat_minor": 2
}
