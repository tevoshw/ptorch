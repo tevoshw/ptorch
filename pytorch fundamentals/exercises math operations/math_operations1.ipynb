{
 "cells": [
  {
   "cell_type": "markdown",
   "metadata": {},
   "source": [
    "# EASY LEVEL\n",
    "##### Create two 2x2 tensors and perform addition, subtraction and multiplication operations element by element."
   ]
  },
  {
   "cell_type": "code",
   "execution_count": 8,
   "metadata": {},
   "outputs": [
    {
     "name": "stdout",
     "output_type": "stream",
     "text": [
      "Tensor1\n",
      "tensor([[ 0.6924, -0.0331],\n",
      "        [-0.5967, -0.2023]], dtype=torch.float16)\n",
      "Tensor2\n",
      "tensor([[-1.0078, -0.1583],\n",
      "        [-0.3652, -0.3853]], dtype=torch.float16)\n",
      "\n",
      "\n",
      "\n",
      "Tensor1 + Tensor2 =\n",
      "tensor([[-0.3154, -0.1914],\n",
      "        [-0.9619, -0.5874]], dtype=torch.float16)\n",
      "\n",
      "Tensor1 - Tensor2 =\n",
      "tensor([[ 1.7002,  0.1252],\n",
      "        [-0.2314,  0.1830]], dtype=torch.float16)\n",
      "\n",
      "Tensor1 * Tensor2 =\n",
      "tensor([[-0.6978,  0.0052],\n",
      "        [ 0.2179,  0.0779]], dtype=torch.float16)\n",
      "\n",
      "Tensor1 / Tensor2 =\n",
      "tensor([[-0.6870,  0.2094],\n",
      "        [ 1.6338,  0.5249]], dtype=torch.float16)\n"
     ]
    }
   ],
   "source": [
    "import torch\n",
    "\n",
    "tensor1 = torch.randn((2, 2), dtype = torch.float16)\n",
    "tensor2 = torch.randn((2, 2), dtype = torch.float16)\n",
    "\n",
    "print(f\"Tensor1\\n{tensor1}\")\n",
    "print(f\"Tensor2\\n{tensor2}\")\n",
    "\n",
    "print(f\"\\n\\n\\nTensor1 + Tensor2 =\\n{tensor1 + tensor2}\")\n",
    "print(f\"\\nTensor1 - Tensor2 =\\n{tensor1 - tensor2}\")\n",
    "print(f\"\\nTensor1 * Tensor2 =\\n{tensor1 * tensor2}\")\n",
    "print(f\"\\nTensor1 / Tensor2 =\\n{tensor1 / tensor2}\")\n"
   ]
  }
 ],
 "metadata": {
  "kernelspec": {
   "display_name": "Python 3",
   "language": "python",
   "name": "python3"
  },
  "language_info": {
   "codemirror_mode": {
    "name": "ipython",
    "version": 3
   },
   "file_extension": ".py",
   "mimetype": "text/x-python",
   "name": "python",
   "nbconvert_exporter": "python",
   "pygments_lexer": "ipython3",
   "version": "3.12.6"
  }
 },
 "nbformat": 4,
 "nbformat_minor": 2
}
