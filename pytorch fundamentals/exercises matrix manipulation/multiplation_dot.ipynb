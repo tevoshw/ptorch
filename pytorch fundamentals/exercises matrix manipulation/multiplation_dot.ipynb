{
 "cells": [
  {
   "cell_type": "markdown",
   "metadata": {},
   "source": [
    "# Matrix mulplication -> (By ROWS and COLUMNS, we called DOT MULTIPLICATION)\n",
    "### In this way we multiply the rows for the first matrix by the columnds for the second"
   ]
  },
  {
   "cell_type": "markdown",
   "metadata": {},
   "source": [
    "#### An example of that it's \n",
    "#### tensor1 (3, 2)\n",
    "#### tensor2 (2, 3)\n",
    "####  ..............   6  = 6\n",
    "#### We multiply the terms in vertical, if the terms after the multiplication are equal and the rows of first tensor and columns of second are equal we can DOT this"
   ]
  },
  {
   "cell_type": "code",
   "execution_count": 5,
   "metadata": {},
   "outputs": [
    {
     "name": "stdout",
     "output_type": "stream",
     "text": [
      "The first tensor created are:\n",
      "tensor([[8., 8.],\n",
      "        [7., 0.],\n",
      "        [4., 5.]])\n",
      "The second tensor created are:\n",
      "tensor([[2., 6., 6.],\n",
      "        [5., 7., 9.]])\n",
      "The multiplied tensor are:\n",
      "tensor([[ 56., 104., 120.],\n",
      "        [ 14.,  42.,  42.],\n",
      "        [ 33.,  59.,  69.]])\n"
     ]
    }
   ],
   "source": [
    "import torch\n",
    "\n",
    "tensor_one = torch.randint(0, 10, (3, 2), dtype = torch.float32)\n",
    "tensor_two = torch.randint(0, 10, (2, 3), dtype = torch.float32)\n",
    "\n",
    "print(f\"The first tensor created are:\\n{tensor_one}\")\n",
    "print(f\"The second tensor created are:\\n{tensor_two}\")\n",
    "\n",
    "mult_tensors = torch.matmul(tensor_one, tensor_two)\n",
    "print(f\"The multiplied tensor are:\\n{mult_tensors}\")"
   ]
  },
  {
   "cell_type": "markdown",
   "metadata": {},
   "source": [
    "#### So will multiply the first row in the first tensor (8, 8) by the first column in the second tensor (2, 5), So 8*2 + 8*5 -> 16 + 40 = 56\n",
    "#### And will do this in all the rows and columnds, because of this we need to have the same quantity of the rows 1t and the columns 2t, so this will created a tensor by -> (number_of_rows_1_tensor, number_of_columns_2_tensor), in this case of example we are, (3, 2) first tensor and (2, 3) second tensor gonna be created a (3, 3) tensor"
   ]
  }
 ],
 "metadata": {
  "kernelspec": {
   "display_name": "Python 3",
   "language": "python",
   "name": "python3"
  },
  "language_info": {
   "codemirror_mode": {
    "name": "ipython",
    "version": 3
   },
   "file_extension": ".py",
   "mimetype": "text/x-python",
   "name": "python",
   "nbconvert_exporter": "python",
   "pygments_lexer": "ipython3",
   "version": "3.12.6"
  }
 },
 "nbformat": 4,
 "nbformat_minor": 2
}
