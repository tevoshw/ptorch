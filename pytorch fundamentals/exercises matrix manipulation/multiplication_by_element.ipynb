{
 "cells": [
  {
   "cell_type": "markdown",
   "metadata": {},
   "source": [
    "# Matrix multiplication -> (Element by element)\n",
    "\n",
    "#### There are two ways to multiplacation matrix, one of it's per elememnt using the normal symbols of math in progamming, the `*`"
   ]
  },
  {
   "cell_type": "code",
   "execution_count": 12,
   "metadata": {},
   "outputs": [
    {
     "name": "stdout",
     "output_type": "stream",
     "text": [
      "The first tensor created are:\n",
      "tensor([[4., 7.],\n",
      "        [6., 4.]])\n",
      "Atrributes about, tensor dimensions:torch.float32, device:cpu\n"
     ]
    }
   ],
   "source": [
    "import torch\n",
    "\n",
    "tensor_one = torch.randint(0, 10, (2, 2), dtype = torch.float32)\n",
    "print(f\"The first tensor created are:\\n{tensor_one}\")\n",
    "print(f\"Atrributes about, tensor dimensions:{tensor_one.dtype}, device:{tensor_one.device}\")"
   ]
  },
  {
   "cell_type": "code",
   "execution_count": 15,
   "metadata": {},
   "outputs": [
    {
     "name": "stdout",
     "output_type": "stream",
     "text": [
      "The second tensor created are:\n",
      "tensor([[8., 4.],\n",
      "        [6., 3.]])\n",
      "Atrributes about, tensor dimensions:torch.float32, device:cpu, shape: torch.Size([2, 2])\n"
     ]
    }
   ],
   "source": [
    "tensor_two = torch.randint(0, 10, (2, 2), dtype = torch.float32)\n",
    "print(f\"The second tensor created are:\\n{tensor_two}\")\n",
    "print(f\"Atrributes about, tensor dimensions:{tensor_two.dtype}, device:{tensor_two.device}, shape: {tensor_two.shape}\")"
   ]
  },
  {
   "cell_type": "code",
   "execution_count": 17,
   "metadata": {},
   "outputs": [
    {
     "name": "stdout",
     "output_type": "stream",
     "text": [
      "The multiplication of element by element in tensors result in a new tensor:\n",
      "tensor([[32., 28.],\n",
      "        [36., 12.]])\n"
     ]
    }
   ],
   "source": [
    "# Multiplication element by element\n",
    "mult_tensors = tensor_one * tensor_two\n",
    "print(f\"The multiplication of element by element in tensors result in a new tensor:\\n{mult_tensors}\")"
   ]
  },
  {
   "cell_type": "markdown",
   "metadata": {},
   "source": [
    "### We can see, in this way the first elemnt in first tensor gonna be multiply for the first elemnt in second tensor, like the example, e = element, t = tensor:\n",
    "\n",
    "\n",
    "#### A matrix 2x2:\n",
    "\n",
    "` [1e1t * 1e2t     |      2e1t * 2e2t]`\n",
    "\n",
    "` [3e1t * 3e2t     |     4e1t * 4e2t]`   "
   ]
  }
 ],
 "metadata": {
  "kernelspec": {
   "display_name": "Python 3",
   "language": "python",
   "name": "python3"
  },
  "language_info": {
   "codemirror_mode": {
    "name": "ipython",
    "version": 3
   },
   "file_extension": ".py",
   "mimetype": "text/x-python",
   "name": "python",
   "nbconvert_exporter": "python",
   "pygments_lexer": "ipython3",
   "version": "3.12.6"
  }
 },
 "nbformat": 4,
 "nbformat_minor": 2
}
