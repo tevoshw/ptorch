{
 "cells": [
  {
   "cell_type": "markdown",
   "metadata": {},
   "source": [
    "# EASY LEVEL\n",
    "##### Create two tensors 3x2 and 2x3 respectively and do matrix multiplication."
   ]
  },
  {
   "cell_type": "code",
   "execution_count": 6,
   "metadata": {},
   "outputs": [
    {
     "name": "stdout",
     "output_type": "stream",
     "text": [
      "The multiplication of the tensor1 and tensor2 it's:\n",
      "tensor([[1.1484, 0.6250, 0.7715],\n",
      "        [0.7163, 0.3887, 0.4543],\n",
      "        [1.1270, 0.6196, 0.8872]], dtype=torch.float16), and the new shape it's: torch.Size([3, 3])\n"
     ]
    }
   ],
   "source": [
    "import torch\n",
    "\n",
    "tensor32 = torch.rand((3, 2), dtype = torch.float16)\n",
    "tensor23 = torch.rand((2, 3), dtype = torch.float16)\n",
    "\n",
    "tensorx = torch.matmul(tensor32, tensor23)\n",
    "\n",
    "print(f\"The multiplication of the tensor1 and tensor2 it's:\\n{tensorx}, and the new shape it's: {tensorx.shape}\")"
   ]
  }
 ],
 "metadata": {
  "kernelspec": {
   "display_name": "Python 3",
   "language": "python",
   "name": "python3"
  },
  "language_info": {
   "codemirror_mode": {
    "name": "ipython",
    "version": 3
   },
   "file_extension": ".py",
   "mimetype": "text/x-python",
   "name": "python",
   "nbconvert_exporter": "python",
   "pygments_lexer": "ipython3",
   "version": "3.12.6"
  }
 },
 "nbformat": 4,
 "nbformat_minor": 2
}
