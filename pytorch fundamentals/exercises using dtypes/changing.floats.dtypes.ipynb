{
 "cells": [
  {
   "cell_type": "markdown",
   "metadata": {},
   "source": [
    "# Tensors dtype changes"
   ]
  },
  {
   "cell_type": "markdown",
   "metadata": {},
   "source": [
    "#### In torch we can define a dtype tensor and after change this dtype with `new_tensor = old_tensor.type(x)` X it's the new dtype, like the example bellow:"
   ]
  },
  {
   "cell_type": "code",
   "execution_count": null,
   "metadata": {},
   "outputs": [
    {
     "name": "stdout",
     "output_type": "stream",
     "text": [
      "The tensor it's:\n",
      "tensor([[2., 4.],\n",
      "        [4., 2.]])\n",
      "And the dtype it's torch.float32\n",
      "\n",
      "The new tensor it's:\n",
      "tensor([[2., 4.],\n",
      "        [4., 2.]], dtype=torch.float16)\n",
      "And the new dtype it's torch.float16\n"
     ]
    }
   ],
   "source": [
    "import torch\n",
    "\n",
    "tensor = torch.randint(1, 5, (2,2), dtype=torch.float32)\n",
    "print(f\"The tensor it's:\\n{tensor}\")\n",
    "print(f\"And the dtype it's {tensor.dtype}\")\n",
    "\n",
    "new_tensor = tensor.type(torch.float16)\n",
    "print(f\"\\nThe new tensor it's:\\n{new_tensor}\")\n",
    "print(f\"And the new dtype it's {new_tensor.dtype}\")"
   ]
  }
 ],
 "metadata": {
  "kernelspec": {
   "display_name": "Python 3",
   "language": "python",
   "name": "python3"
  },
  "language_info": {
   "codemirror_mode": {
    "name": "ipython",
    "version": 3
   },
   "file_extension": ".py",
   "mimetype": "text/x-python",
   "name": "python",
   "nbconvert_exporter": "python",
   "pygments_lexer": "ipython3",
   "version": "3.12.6"
  }
 },
 "nbformat": 4,
 "nbformat_minor": 2
}
